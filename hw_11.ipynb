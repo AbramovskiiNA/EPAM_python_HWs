{
 "cells": [
  {
   "cell_type": "code",
   "execution_count": 1,
   "metadata": {},
   "outputs": [
    {
     "name": "stdout",
     "output_type": "stream",
     "text": [
      "Overwriting for_testing.py\n"
     ]
    }
   ],
   "source": [
    "%%writefile for_testing.py\n",
    "\n",
    "def oop_get_top(data):\n",
    "    courses = set(map(lambda p: p['course'], data))\n",
    "\n",
    "    students_sorted = sorted(data, key=lambda p: p['rate'], reverse=True)\n",
    "\n",
    "    get_first_student = lambda course: next({s['course']: s['name']} for s in students_sorted if s['course'] == course)\n",
    "\n",
    "    return list(map(get_first_student, courses))"
   ]
  },
  {
   "cell_type": "code",
   "execution_count": 2,
   "metadata": {},
   "outputs": [
    {
     "data": {
      "text/plain": [
       "[{'JS': 'Бильбо'}, {'Python': 'Фродо'}, {'C': 'Бильбо'}]"
      ]
     },
     "execution_count": 2,
     "metadata": {},
     "output_type": "execute_result"
    }
   ],
   "source": [
    "from for_testing import oop_get_top\n",
    "\n",
    "oop_get_top([\n",
    "            {'name': 'Alexey', 'rate': 2, 'course': 'Python'},\n",
    "            {'name': 'Фродо', 'rate': 5, 'course': 'Python'},\n",
    "            {'name': 'Бильбо', 'rate': 4, 'course': 'C'},\n",
    "            {'name': 'Фродо', 'rate': 4, 'course': 'JS'},\n",
    "            {'name': 'Бильбо', 'rate': 5, 'course': 'JS'},\n",
    "            {'name': 'Гимли', 'rate': 3, 'course': 'C'}\n",
    "        ])"
   ]
  },
  {
   "cell_type": "code",
   "execution_count": 3,
   "metadata": {},
   "outputs": [
    {
     "name": "stderr",
     "output_type": "stream",
     "text": [
      "test_oop_get_top_one_student_negative (__main__.TestTopStudents) ... ok\n",
      "test_oop_get_top_students_list_positive (__main__.TestTopStudents) ... FAIL\n",
      "\n",
      "======================================================================\n",
      "FAIL: test_oop_get_top_students_list_positive (__main__.TestTopStudents)\n",
      "----------------------------------------------------------------------\n",
      "Traceback (most recent call last):\n",
      "  File \"<ipython-input-3-c7b641b5ab57>\", line 17, in test_oop_get_top_students_list_positive\n",
      "    self.assertEqual(oop_get_top(students), [{'C': 'Бильбо'}, {'JS': 'Бильбо'}, {'Python': 'Фродо'}])\n",
      "AssertionError: Lists differ: [{'JS': 'Бильбо'}, {'Python': 'Фродо'}, {'C': 'Бильбо'}] != [{'C': 'Бильбо'}, {'JS': 'Бильбо'}, {'Python': 'Фродо'}]\n",
      "\n",
      "First differing element 0:\n",
      "{'JS': 'Бильбо'}\n",
      "{'C': 'Бильбо'}\n",
      "\n",
      "- [{'JS': 'Бильбо'}, {'Python': 'Фродо'}, {'C': 'Бильбо'}]\n",
      "+ [{'C': 'Бильбо'}, {'JS': 'Бильбо'}, {'Python': 'Фродо'}]\n",
      "\n",
      "----------------------------------------------------------------------\n",
      "Ran 2 tests in 0.004s\n",
      "\n",
      "FAILED (failures=1)\n"
     ]
    },
    {
     "data": {
      "text/plain": [
       "<unittest.runner.TextTestResult run=2 errors=0 failures=1>"
      ]
     },
     "execution_count": 3,
     "metadata": {},
     "output_type": "execute_result"
    }
   ],
   "source": [
    "import unittest\n",
    "\n",
    "from for_testing import oop_get_top\n",
    "\n",
    "class TestTopStudents(unittest.TestCase):\n",
    "    \n",
    "    def test_oop_get_top_students_list_positive(self):\n",
    "        students = [\n",
    "            {'name': 'Alexey', 'rate': 2, 'course': 'Python'},\n",
    "            {'name': 'Фродо', 'rate': 5, 'course': 'Python'},\n",
    "            {'name': 'Бильбо', 'rate': 4, 'course': 'C'},\n",
    "            {'name': 'Фродо', 'rate': 4, 'course': 'JS'},\n",
    "            {'name': 'Бильбо', 'rate': 5, 'course': 'JS'},\n",
    "            {'name': 'Гимли', 'rate': 3, 'course': 'C'}\n",
    "        ]\n",
    "        \n",
    "        self.assertEqual(oop_get_top(students), [{'C': 'Бильбо'}, {'JS': 'Бильбо'}, {'Python': 'Фродо'}])\n",
    "    \n",
    "    def test_oop_get_top_one_student_negative(self):\n",
    "        with self.assertRaises(TypeError) as e:\n",
    "            oop_get_top({'name': 'Alexey', 'rate': 2, 'course': 'Python'})\n",
    "            \n",
    "        self.assertEqual(e.exception.args[0], 'string indices must be integers')\n",
    "\n",
    "suite = unittest.TestLoader().loadTestsFromTestCase(TestTopStudents)\n",
    "unittest.TextTestRunner(verbosity=3).run(suite)"
   ]
  },
  {
   "cell_type": "code",
   "execution_count": 4,
   "metadata": {},
   "outputs": [
    {
     "name": "stdout",
     "output_type": "stream",
     "text": [
      "Overwriting for_testing_pytests.py\n"
     ]
    }
   ],
   "source": [
    "%%writefile for_testing_pytests.py\n",
    "\n",
    "import pytest\n",
    "\n",
    "from for_testing import oop_get_top\n",
    "\n",
    "def test_oop_get_top_students_list_positive():\n",
    "    students = [\n",
    "        {'name': 'Alexey', 'rate': 2, 'course': 'Python'},\n",
    "        {'name': 'Фродо', 'rate': 5, 'course': 'Python'},\n",
    "        {'name': 'Бильбо', 'rate': 4, 'course': 'C'},\n",
    "        {'name': 'Фродо', 'rate': 4, 'course': 'JS'},\n",
    "        {'name': 'Бильбо', 'rate': 5, 'course': 'JS'},\n",
    "        {'name': 'Гимли', 'rate': 3, 'course': 'C'}\n",
    "    ]\n",
    "\n",
    "    assert oop_get_top(students) == [{'JS': 'Бильбо'}, {'Python': 'Фродо'}, {'C': 'Бильбо'}]\n",
    "    \n",
    "def test_oop_get_top_one_student_negative():\n",
    "    with pytest.raises(TypeError) as e:\n",
    "        oop_get_top({'name': 'Alexey', 'rate': 2, 'course': 'Python'})\n",
    "\n",
    "    assert str(e.value) == 'string indices must be integers'"
   ]
  },
  {
   "cell_type": "code",
   "execution_count": 5,
   "metadata": {},
   "outputs": [
    {
     "name": "stdout",
     "output_type": "stream",
     "text": [
      "============================= test session starts =============================\n",
      "platform win32 -- Python 3.8.3, pytest-5.4.3, py-1.9.0, pluggy-0.13.1\n",
      "rootdir: D:\\PycharmProjects\\epam_python\n",
      "collected 2 items\n",
      "\n",
      "for_testing_pytests.py F.                                                [100%]\n",
      "\n",
      "================================== FAILURES ===================================\n",
      "___________________ test_oop_get_top_students_list_positive ___________________\n",
      "\n",
      "    def test_oop_get_top_students_list_positive():\n",
      "        students = [\n",
      "            {'name': 'Alexey', 'rate': 2, 'course': 'Python'},\n",
      "            {'name': 'Фродо', 'rate': 5, 'course': 'Python'},\n",
      "            {'name': 'Бильбо', 'rate': 4, 'course': 'C'},\n",
      "            {'name': 'Фродо', 'rate': 4, 'course': 'JS'},\n",
      "            {'name': 'Бильбо', 'rate': 5, 'course': 'JS'},\n",
      "            {'name': 'Гимли', 'rate': 3, 'course': 'C'}\n",
      "        ]\n",
      "    \n",
      ">       assert oop_get_top(students) == [{'JS': 'Бильбо'}, {'Python': 'Фродо'}, {'C': 'Бильбо'}]\n",
      "E       AssertionError\n",
      "\n",
      "for_testing_pytests.py:16: AssertionError\n",
      "=========================== short test summary info ===========================\n",
      "FAILED for_testing_pytests.py::test_oop_get_top_students_list_positive - Asse...\n",
      "========================= 1 failed, 1 passed in 0.29s =========================\n"
     ]
    }
   ],
   "source": [
    "!python -m pytest ./for_testing_pytests.py"
   ]
  },
  {
   "cell_type": "code",
   "execution_count": 9,
   "metadata": {},
   "outputs": [
    {
     "name": "stdout",
     "output_type": "stream",
     "text": [
      "============================= test session starts =============================\n",
      "platform win32 -- Python 3.8.3, pytest-5.4.3, py-1.9.0, pluggy-0.13.1\n",
      "rootdir: D:\\PycharmProjects\\epam_python\n",
      "collected 2 items\n",
      "\n",
      "for_testing_pytests.py F.                                                [100%]\n",
      "\n",
      "================================== FAILURES ===================================\n",
      "___________________ test_oop_get_top_students_list_positive ___________________\n",
      "\n",
      "    def test_oop_get_top_students_list_positive():\n",
      "        students = [\n",
      "            {'name': 'Alexey', 'rate': 2, 'course': 'Python'},\n",
      "            {'name': 'Фродо', 'rate': 5, 'course': 'Python'},\n",
      "            {'name': 'Бильбо', 'rate': 4, 'course': 'C'},\n",
      "            {'name': 'Фродо', 'rate': 4, 'course': 'JS'},\n",
      "            {'name': 'Бильбо', 'rate': 5, 'course': 'JS'},\n",
      "            {'name': 'Гимли', 'rate': 3, 'course': 'C'}\n",
      "        ]\n",
      "    \n",
      ">       assert oop_get_top(students) == [{'JS': 'Бильбо'}, {'Python': 'Фродо'}, {'C': 'Бильбо'}]\n",
      "E       AssertionError\n",
      "\n",
      "for_testing_pytests.py:16: AssertionError\n",
      "=========================== short test summary info ===========================\n",
      "FAILED for_testing_pytests.py::test_oop_get_top_students_list_positive - Asse...\n",
      "========================= 1 failed, 1 passed in 0.42s =========================\n"
     ]
    }
   ],
   "source": [
    "!coverage run -m pytest ./for_testing_pytests.py"
   ]
  },
  {
   "cell_type": "code",
   "execution_count": 16,
   "metadata": {},
   "outputs": [
    {
     "name": "stdout",
     "output_type": "stream",
     "text": [
      "Name                       Stmts   Miss  Cover\n",
      "----------------------------------------------\n",
      "./for_testing_pytests.py       9      0   100%\n"
     ]
    }
   ],
   "source": [
    " !coverage report ./for_testing_pytests.py"
   ]
  },
  {
   "cell_type": "code",
   "execution_count": 19,
   "metadata": {},
   "outputs": [],
   "source": [
    " !coverage html ./for_testing_pytests.py"
   ]
  }
 ],
 "metadata": {
  "kernelspec": {
   "display_name": "Python 3",
   "language": "python",
   "name": "python3"
  },
  "language_info": {
   "codemirror_mode": {
    "name": "ipython",
    "version": 3
   },
   "file_extension": ".py",
   "mimetype": "text/x-python",
   "name": "python",
   "nbconvert_exporter": "python",
   "pygments_lexer": "ipython3",
   "version": "3.8.3"
  }
 },
 "nbformat": 4,
 "nbformat_minor": 4
}
