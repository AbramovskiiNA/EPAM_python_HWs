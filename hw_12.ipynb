{
 "cells": [
  {
   "cell_type": "markdown",
   "metadata": {},
   "source": [
    "# Functions"
   ]
  },
  {
   "cell_type": "code",
   "execution_count": 1,
   "metadata": {},
   "outputs": [],
   "source": [
    "dict_1 = {str(i): i for i in range(10_000)}\n",
    "list_1 = [1, 2, 'a', 'B']*10_000\n",
    "list_2 = [2, 3, 1]*10_000\n",
    "list_3 = [[1, 2], [3, 4]]*10_000\n",
    " \n",
    "def read_dict_v1(key, d):\n",
    "    return d.get(key)\n",
    "\n",
    "def write_dict_v1(key, value, d):\n",
    "    d.update({key: value})\n",
    "    \n",
    "    return d\n",
    "\n",
    "def read_dict_v2(key, d):\n",
    "    if key in d.keys():\n",
    "        return d[key]\n",
    "    else:\n",
    "        return None\n",
    "\n",
    "def write_dict_v2(key, value, d):\n",
    "    def new_items():\n",
    "        yield from d.items()\n",
    "        yield key, value\n",
    "    \n",
    "    return dict(new_items())\n",
    "\n",
    "def modify_list_v1(l):\n",
    "    new_l = []\n",
    "    for el in l:\n",
    "        if isinstance(el, int):\n",
    "            new_l.append(pow(el, 2))\n",
    "        elif isinstance(el, str):\n",
    "            new_l.append(el.capitalize())\n",
    "    return new_l\n",
    "\n",
    "def modify_list_v2(l):\n",
    "    sqr = map(lambda el: pow(el, 2) if isinstance(el, int) else el, l)\n",
    "    sqr_cap = map(lambda el: el.capitalize() if isinstance(el, str) else el, sqr)\n",
    "    \n",
    "    return(list(sqr_cap))\n",
    "\n",
    "def list_sort_v1(l):\n",
    "    return sorted(l)\n",
    "\n",
    "def list_sort_v2(l):\n",
    "    lc = l.copy()\n",
    "    lc.sort()\n",
    "    return lc\n",
    "\n",
    "def flatten_list_v1(nested):\n",
    "    flat = []\n",
    "    for sublist in nested:\n",
    "        for el in sublist:\n",
    "            flat.append(el)\n",
    "    return flat\n",
    "\n",
    "def flatten_list_v2(nested):\n",
    "    gen = (el for sublist in nested for el in sublist)\n",
    "    \n",
    "    return list(gen)"
   ]
  },
  {
   "cell_type": "markdown",
   "metadata": {},
   "source": [
    "# Testing functions"
   ]
  },
  {
   "cell_type": "code",
   "execution_count": 2,
   "metadata": {},
   "outputs": [],
   "source": [
    "def test_read_dict(read_dict_func):\n",
    "    di = {'a': 1}\n",
    "    \n",
    "    assert read_dict_func('a', di) == 1, 'Failed to read'\n",
    "    assert read_dict_func('b', di) == None, 'Didnt return None'\n",
    "\n",
    "def test_write_dict(write_dict_func):\n",
    "    di = {}\n",
    "    write_dict_func('a', 1, di)\n",
    "    \n",
    "    assert write_dict_func('a', 1, di) == {'a': 1}, 'Failed to write'\n",
    "\n",
    "def test_modify_list(modify_list_func):\n",
    "    list_1 = [1, 2, 'a', 'B']\n",
    "    \n",
    "    assert modify_list_func(list_1) == [1, 4, 'A', 'B']\n",
    "    \n",
    "def test_list_sort(list_sort_func):\n",
    "    list_2 = [2, 3, 1]\n",
    "    \n",
    "    assert list_sort_func(list_2) == sorted(list_2)\n",
    "    \n",
    "def test_flatten_list(list_flatten_func):\n",
    "    list_3 = [[1, 2], [3, 4]]\n",
    "    \n",
    "    assert list_flatten_func(list_3) == [1, 2, 3, 4]\n",
    "\n",
    "\n",
    "test_read_dict(read_dict_v1)\n",
    "test_read_dict(read_dict_v2)\n",
    "\n",
    "test_write_dict(write_dict_v1)\n",
    "test_write_dict(write_dict_v2)\n",
    "\n",
    "test_modify_list(modify_list_v1)\n",
    "test_modify_list(modify_list_v2)\n",
    "\n",
    "test_list_sort(list_sort_v1)\n",
    "test_list_sort(list_sort_v2)\n",
    "\n",
    "test_flatten_list(flatten_list_v1)\n",
    "test_flatten_list(flatten_list_v2)"
   ]
  },
  {
   "cell_type": "markdown",
   "metadata": {},
   "source": [
    "# Time profiling"
   ]
  },
  {
   "cell_type": "code",
   "execution_count": 3,
   "metadata": {},
   "outputs": [
    {
     "name": "stdout",
     "output_type": "stream",
     "text": [
      "Read dict:\n",
      "277 ns ± 2.74 ns per loop (mean ± std. dev. of 7 runs, 1000000 loops each)\n",
      "349 ns ± 6.76 ns per loop (mean ± std. dev. of 7 runs, 1000000 loops each)\n",
      "Write dict:\n",
      "515 ns ± 17.3 ns per loop (mean ± std. dev. of 7 runs, 1000000 loops each)\n",
      "1.4 ms ± 9.48 µs per loop (mean ± std. dev. of 7 runs, 1000 loops each)\n"
     ]
    }
   ],
   "source": [
    "print('Read dict:')\n",
    "%timeit read_dict_v1('a', dict_1)\n",
    "%timeit read_dict_v2('a', dict_1)\n",
    "print('Write dict:')\n",
    "%timeit write_dict_v1('a', 1, dict_1)\n",
    "%timeit write_dict_v2('a', 1, dict_1)"
   ]
  },
  {
   "cell_type": "markdown",
   "metadata": {},
   "source": [
    "Второй способ чтения дольше, скорее всего, из-за проверки условия.\n",
    "Второй способ записи содержит создание нового словаря.\n"
   ]
  },
  {
   "cell_type": "code",
   "execution_count": 4,
   "metadata": {},
   "outputs": [
    {
     "name": "stdout",
     "output_type": "stream",
     "text": [
      "25.9 ms ± 538 µs per loop (mean ± std. dev. of 7 runs, 10 loops each)\n",
      "30.8 ms ± 514 µs per loop (mean ± std. dev. of 7 runs, 10 loops each)\n"
     ]
    }
   ],
   "source": [
    "%timeit modify_list_v1(list_1)\n",
    "%timeit modify_list_v2(list_1)"
   ]
  },
  {
   "cell_type": "markdown",
   "metadata": {},
   "source": [
    "Сопоставимые времена. Но, второй способ, предполагает два прохода по списку."
   ]
  },
  {
   "cell_type": "code",
   "execution_count": 5,
   "metadata": {},
   "outputs": [
    {
     "name": "stdout",
     "output_type": "stream",
     "text": [
      "2.25 ms ± 67.2 µs per loop (mean ± std. dev. of 7 runs, 100 loops each)\n",
      "2.24 ms ± 55.8 µs per loop (mean ± std. dev. of 7 runs, 100 loops each)\n"
     ]
    }
   ],
   "source": [
    "%timeit list_sort_v1(list_2)\n",
    "%timeit list_sort_v2(list_2)"
   ]
  },
  {
   "cell_type": "markdown",
   "metadata": {},
   "source": [
    "Можно сказать, одинаково. Похоже, реализуют один и тот же алгоритм."
   ]
  },
  {
   "cell_type": "code",
   "execution_count": 20,
   "metadata": {},
   "outputs": [
    {
     "name": "stdout",
     "output_type": "stream",
     "text": [
      "6.87 ms ± 97.5 µs per loop (mean ± std. dev. of 7 runs, 100 loops each)\n",
      "5.04 ms ± 60.8 µs per loop (mean ± std. dev. of 7 runs, 100 loops each)\n"
     ]
    }
   ],
   "source": [
    "%timeit flatten_list_v1(list_3)\n",
    "%timeit flatten_list_v2(list_3)"
   ]
  },
  {
   "cell_type": "markdown",
   "metadata": {},
   "source": [
    "С генератором побыстрее."
   ]
  },
  {
   "cell_type": "markdown",
   "metadata": {},
   "source": [
    "# Memory profiling"
   ]
  },
  {
   "cell_type": "code",
   "execution_count": null,
   "metadata": {},
   "outputs": [],
   "source": [
    "%load_ext memory_profiler"
   ]
  },
  {
   "cell_type": "code",
   "execution_count": 5,
   "metadata": {},
   "outputs": [
    {
     "name": "stdout",
     "output_type": "stream",
     "text": [
      "Overwriting funcs_to_be_profiled.py\n"
     ]
    }
   ],
   "source": [
    "%%writefile funcs_to_be_profiled.py\n",
    "from memory_profiler import profile\n",
    "\n",
    "\n",
    "dict_1 = {str(i): i for i in range(10_000)}\n",
    "list_1 = [1, 2, 'a', 'B']*10_000\n",
    "list_2 = [2, 3, 1]*10_000\n",
    "list_3 = [[1, 2], [3, 4]]*10_000\n",
    "\n",
    "@profile(precision=6)   \n",
    "def read_dict_v1(key, d):\n",
    "    return d.get(key)\n",
    "\n",
    "@profile(precision=6)\n",
    "def write_dict_v1(key, value, d):\n",
    "    d.update({key: value})\n",
    "\n",
    "@profile(precision=6)\n",
    "def read_dict_v2(key, d):\n",
    "    if key in d.keys():\n",
    "        return d[key]\n",
    "    else:\n",
    "        return None\n",
    "\n",
    "@profile(precision=6)\n",
    "def write_dict_v2(key, value, d):\n",
    "    def new_items():\n",
    "        yield from d.items()\n",
    "        yield key, value\n",
    "    \n",
    "    d = dict(new_items()) # !!!\n",
    "\n",
    "@profile(precision=6)\n",
    "def modify_list_v1(l):\n",
    "    new_l = []\n",
    "    for el in l:\n",
    "        if isinstance(el, int):\n",
    "            new_l.append(pow(el, 2))\n",
    "        elif isinstance(el, str):\n",
    "            new_l.append(el.capitalize())\n",
    "    return new_l\n",
    "\n",
    "@profile(precision=6)\n",
    "def modify_list_v2(l):\n",
    "    sqr = map(lambda el: pow(el, 2) if isinstance(el, int) else el, l)\n",
    "    sqr_cap = map(lambda el: el.capitalize() if isinstance(el, str) else el, sqr)\n",
    "    \n",
    "    return(list(sqr_cap))\n",
    "\n",
    "@profile(precision=6)\n",
    "def list_sort_v1(l):\n",
    "    return sorted(l)\n",
    "\n",
    "@profile(precision=6)\n",
    "def list_sort_v2(l):\n",
    "    lc = l.copy()\n",
    "    lc.sort()\n",
    "    return lc\n",
    "\n",
    "@profile(precision=6)\n",
    "def flatten_list_v1(nested):\n",
    "    flat = []\n",
    "    for sublist in nested:\n",
    "        for el in sublist:\n",
    "            flat.append(el)\n",
    "    return flat\n",
    "\n",
    "@profile(precision=6)\n",
    "def flatten_list_v2(nested):\n",
    "    gen = (el for sublist in nested for el in sublist)\n",
    "    \n",
    "    return list(gen)\n",
    "\n",
    "if __name__ == '__main__':\n",
    "    read_dict_v1('a', dict_1)\n",
    "    write_dict_v1('a', 1, dict_1)\n",
    "    read_dict_v2('a', dict_1)\n",
    "    write_dict_v2('a', 1, dict_1)\n",
    "    \n",
    "    modify_list_v1(list_1)\n",
    "    modify_list_v2(list_1)\n",
    "    \n",
    "    list_sort_v1(list_2)\n",
    "    list_sort_v2(list_2)\n",
    "    \n",
    "    flatten_list_v1(list_3)\n",
    "    flatten_list_v2(list_3)\n",
    "    "
   ]
  },
  {
   "cell_type": "code",
   "execution_count": 7,
   "metadata": {},
   "outputs": [
    {
     "name": "stdout",
     "output_type": "stream",
     "text": [
      "main\n",
      "Filename: funcs_to_be_profiled.py\n",
      "\n",
      "Line #    Mem usage    Increment   Line Contents\n",
      "================================================\n",
      "     9  33.324219 MiB  33.324219 MiB   @profile(precision=6)   \n",
      "    10                             def read_dict_v1(key, d):\n",
      "    11  33.324219 MiB   0.000000 MiB       return d.get(key)\n",
      "\n",
      "\n",
      "Filename: funcs_to_be_profiled.py\n",
      "\n",
      "Line #    Mem usage    Increment   Line Contents\n",
      "================================================\n",
      "    13  33.332031 MiB  33.332031 MiB   @profile(precision=6)\n",
      "    14                             def write_dict_v1(key, value, d):\n",
      "    15  33.332031 MiB   0.000000 MiB       d.update({key: value})\n",
      "\n",
      "\n",
      "Filename: funcs_to_be_profiled.py\n",
      "\n",
      "Line #    Mem usage    Increment   Line Contents\n",
      "================================================\n",
      "    17  33.332031 MiB  33.332031 MiB   @profile(precision=6)\n",
      "    18                             def read_dict_v2(key, d):\n",
      "    19  33.332031 MiB   0.000000 MiB       if key in d.keys():\n",
      "    20  33.332031 MiB   0.000000 MiB           return d[key]\n",
      "    21                                 else:\n",
      "    22                                     return None\n",
      "\n",
      "\n",
      "Filename: funcs_to_be_profiled.py\n",
      "\n",
      "Line #    Mem usage    Increment   Line Contents\n",
      "================================================\n",
      "    24  33.332031 MiB  33.332031 MiB   @profile(precision=6)\n",
      "    25                             def write_dict_v2(key, value, d):\n",
      "    26  33.332031 MiB   0.000000 MiB       def new_items():\n",
      "    27  33.601562 MiB   0.156250 MiB           yield from d.items()\n",
      "    28  33.601562 MiB   0.000000 MiB           yield key, value\n",
      "    29                                 \n",
      "    30  33.601562 MiB   0.000000 MiB       d = dict(new_items()) # !!!\n",
      "\n",
      "\n",
      "Filename: funcs_to_be_profiled.py\n",
      "\n",
      "Line #    Mem usage    Increment   Line Contents\n",
      "================================================\n",
      "    32  33.601562 MiB  33.601562 MiB   @profile(precision=6)\n",
      "    33                             def modify_list_v1(l):\n",
      "    34  33.601562 MiB   0.000000 MiB       new_l = []\n",
      "    35  34.226562 MiB   0.000000 MiB       for el in l:\n",
      "    36  34.226562 MiB   0.000000 MiB           if isinstance(el, int):\n",
      "    37  34.226562 MiB   0.000000 MiB               new_l.append(pow(el, 2))\n",
      "    38  34.226562 MiB   0.000000 MiB           elif isinstance(el, str):\n",
      "    39  34.226562 MiB   0.062500 MiB               new_l.append(el.capitalize())\n",
      "    40  34.226562 MiB   0.000000 MiB       return new_l\n",
      "\n",
      "\n",
      "Filename: funcs_to_be_profiled.py\n",
      "\n",
      "Line #    Mem usage    Increment   Line Contents\n",
      "================================================\n",
      "    42  33.601562 MiB  33.601562 MiB   @profile(precision=6)\n",
      "    43                             def modify_list_v2(l):\n",
      "    44  34.226562 MiB   0.000000 MiB       sqr = map(lambda el: pow(el, 2) if isinstance(el, int) else el, l)\n",
      "    45  34.226562 MiB   0.062500 MiB       sqr_cap = map(lambda el: el.capitalize() if isinstance(el, str) else el, sqr)\n",
      "    46                                 \n",
      "    47  34.226562 MiB   0.000000 MiB       return(list(sqr_cap))\n",
      "\n",
      "\n",
      "Filename: funcs_to_be_profiled.py\n",
      "\n",
      "Line #    Mem usage    Increment   Line Contents\n",
      "================================================\n",
      "    49  33.601562 MiB  33.601562 MiB   @profile(precision=6)\n",
      "    50                             def list_sort_v1(l):\n",
      "    51  33.601562 MiB   0.000000 MiB       return sorted(l)\n",
      "\n",
      "\n",
      "Filename: funcs_to_be_profiled.py\n",
      "\n",
      "Line #    Mem usage    Increment   Line Contents\n",
      "================================================\n",
      "    53  33.601562 MiB  33.601562 MiB   @profile(precision=6)\n",
      "    54                             def list_sort_v2(l):\n",
      "    55  33.601562 MiB   0.000000 MiB       lc = l.copy()\n",
      "    56  33.601562 MiB   0.000000 MiB       lc.sort()\n",
      "    57  33.601562 MiB   0.000000 MiB       return lc\n",
      "\n",
      "\n",
      "Filename: funcs_to_be_profiled.py\n",
      "\n",
      "Line #    Mem usage    Increment   Line Contents\n",
      "================================================\n",
      "    59  33.601562 MiB  33.601562 MiB   @profile(precision=6)\n",
      "    60                             def flatten_list_v1(nested):\n",
      "    61  33.601562 MiB   0.000000 MiB       flat = []\n",
      "    62  33.640625 MiB   0.000000 MiB       for sublist in nested:\n",
      "    63  33.640625 MiB   0.000000 MiB           for el in sublist:\n",
      "    64  33.640625 MiB   0.015625 MiB               flat.append(el)\n",
      "    65  33.640625 MiB   0.000000 MiB       return flat\n",
      "\n",
      "\n",
      "Filename: funcs_to_be_profiled.py\n",
      "\n",
      "Line #    Mem usage    Increment   Line Contents\n",
      "================================================\n",
      "    67  33.640625 MiB  33.640625 MiB   @profile(precision=6)\n",
      "    68                             def flatten_list_v2(nested):\n",
      "    69  33.644531 MiB   0.003906 MiB       gen = (el for sublist in nested for el in sublist)\n",
      "    70                                 \n",
      "    71  33.644531 MiB   0.000000 MiB       return list(gen)\n",
      "\n",
      "\n"
     ]
    }
   ],
   "source": [
    "!python funcs_to_be_profiled.py"
   ]
  },
  {
   "cell_type": "markdown",
   "metadata": {},
   "source": []
  }
 ],
 "metadata": {
  "kernelspec": {
   "display_name": "Python 3",
   "language": "python",
   "name": "python3"
  },
  "language_info": {
   "codemirror_mode": {
    "name": "ipython",
    "version": 3
   },
   "file_extension": ".py",
   "mimetype": "text/x-python",
   "name": "python",
   "nbconvert_exporter": "python",
   "pygments_lexer": "ipython3",
   "version": "3.8.3"
  }
 },
 "nbformat": 4,
 "nbformat_minor": 4
}
